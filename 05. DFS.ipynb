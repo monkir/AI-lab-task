{
 "cells": [
  {
   "cell_type": "code",
   "execution_count": 2,
   "id": "39cbcc6e",
   "metadata": {},
   "outputs": [
    {
     "name": "stdout",
     "output_type": "stream",
     "text": [
      "Following is the Depth-First Search:\n",
      "Arad Zerind Oradea Sibiu Fagaras Bucharest Timisoara Lugoj Mehadia Drobeta Craiova Rimnicu Vilcea Pitesti Bucharest "
     ]
    }
   ],
   "source": [
    "# Using a Python dictionary to act as an adjacency list\n",
    "graph={\n",
    "    \"Arad\":[\"Zerind\",\"Sibiu\",\"Timisoara\"],\n",
    "    \"Zerind\":[\"Arad\",\"Oradea\"],\n",
    "    \"Oradea\":[\"Zerind\",\"Sibiu\"],\n",
    "    \"Sibiu\":[\"Arad\",\"Oradea\",\"Fagaras\"],\n",
    "    \"Timisoara\":[\"Arad\",\"Lugoj\"],\n",
    "    \"Lugoj\":[\"Timisoara\",\"Mehadia\"],\n",
    "    \"Mehadia\":[\"Lugoj\",\"Drobeta\"],\n",
    "    \"Drobeta\":[\"Craiova\",\"Mehadia\"],\n",
    "    \"Craiova\":[\"Drobeta\",\"Rimnicu Vilcea\",\"Pitesti\"],\n",
    "    \"Rimnicu Vilcea\":[\"Sibiu\",\"Craiova\",\"Pitesti\"],\n",
    "    \"Pitesti\":[\"Bucharest\",\"Craiova\",\"Rimnicu Vilcea\"],\n",
    "    \"Fagaras\":[\"Sibiu\",\"Bucharest\"],\n",
    "    \"Bucharest\":[\"Giurgiu\",\"Urziceni\"],\n",
    "    \"Giurgiu\":[\"Bucharest\"],\n",
    "    \"Urziceni\":[\"Bucharest\",\"Vaslui\",\"Hirsova\"],\n",
    "    \"Hirsova\":[\"Eforic\",\"Urziceni\"],\n",
    "    \"Eforic\":[\"Hirsova\"],\n",
    "    \"Vaslui\":[\"Urziceni\",\"Iasi\"],\n",
    "    \"Iasi\":[\"Vaslui\",\"Neamt\"],\n",
    "    \"Neamt\":[\"Iasi\"]\n",
    "\n",
    "}\n",
    "\n",
    "visited = [] # Set to keep track of visited nodes of graph.\n",
    "\n",
    "def dfs(visited, graph, node, destination):  #function for dfs \n",
    "    if node not in visited:\n",
    "        print (node, end=\" \")\n",
    "        if node==destination:\n",
    "          return\n",
    "        visited.append(node)\n",
    "        for neighbour in graph[node]:\n",
    "            dfs(visited, graph, neighbour, destination)\n",
    "\n",
    "# Driver Code\n",
    "print(\"Following is the Depth-First Search:\")\n",
    "dfs(visited, graph, \"Arad\",\"Bucharest\")"
   ]
  },
  {
   "cell_type": "code",
   "execution_count": null,
   "id": "078fa158",
   "metadata": {},
   "outputs": [],
   "source": []
  }
 ],
 "metadata": {
  "kernelspec": {
   "display_name": "Python 3 (ipykernel)",
   "language": "python",
   "name": "python3"
  },
  "language_info": {
   "codemirror_mode": {
    "name": "ipython",
    "version": 3
   },
   "file_extension": ".py",
   "mimetype": "text/x-python",
   "name": "python",
   "nbconvert_exporter": "python",
   "pygments_lexer": "ipython3",
   "version": "3.9.16"
  }
 },
 "nbformat": 4,
 "nbformat_minor": 5
}
