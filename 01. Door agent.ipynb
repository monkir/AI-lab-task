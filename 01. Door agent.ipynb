{
 "cells": [
  {
   "cell_type": "code",
   "execution_count": 2,
   "id": "2a001e6e",
   "metadata": {},
   "outputs": [
    {
     "name": "stdout",
     "output_type": "stream",
     "text": [
      "Enter number of step: 5\n",
      "\n",
      "\n",
      "A person is founded at\n",
      "\t1. At left within 1 meter\n",
      "\t2. At left more than 1 meter\n",
      "\t3. At right within 1 meter\n",
      "\t4. At right more than 1 meter\n",
      "Choose an option: 2\n",
      "\tDo: Close door\n",
      "\n",
      "\n",
      "A person is founded at\n",
      "\t1. At left within 1 meter\n",
      "\t2. At left more than 1 meter\n",
      "\t3. At right within 1 meter\n",
      "\t4. At right more than 1 meter\n",
      "Choose an option: 1\n",
      "\tDo: Open door at right\n",
      "\n",
      "\n",
      "A person is founded at\n",
      "\t1. At left within 1 meter\n",
      "\t2. At left more than 1 meter\n",
      "\t3. At right within 1 meter\n",
      "\t4. At right more than 1 meter\n",
      "Choose an option: 3\n",
      "\tDo: Open door at left\n",
      "\n",
      "\n",
      "A person is founded at\n",
      "\t1. At left within 1 meter\n",
      "\t2. At left more than 1 meter\n",
      "\t3. At right within 1 meter\n",
      "\t4. At right more than 1 meter\n",
      "Choose an option: 1\n",
      "\tDo: Open door at right\n",
      "\n",
      "\n",
      "A person is founded at\n",
      "\t1. At left within 1 meter\n",
      "\t2. At left more than 1 meter\n",
      "\t3. At right within 1 meter\n",
      "\t4. At right more than 1 meter\n",
      "Choose an option: 2\n",
      "\tDo: Close door\n",
      "\n",
      "Thanks.\n"
     ]
    }
   ],
   "source": [
    "#door agent\n",
    "x=int(input(\"Enter number of step: \"))\n",
    "for i in range(x):\n",
    "  print(\"\\n\")\n",
    "  print(\"A person is founded at\")\n",
    "  print(\"\\t1. At left within 1 meter\")\n",
    "  print(\"\\t2. At left more than 1 meter\")\n",
    "  print(\"\\t3. At right within 1 meter\")\n",
    "  print(\"\\t4. At right more than 1 meter\")\n",
    "  option=int(input(\"Choose an option: \"))\n",
    "  if option==1:\n",
    "    print(\"\\tDo: Open door at right\")\n",
    "  elif option==2:\n",
    "    print(\"\\tDo: Close door\")\n",
    "  elif option==3:\n",
    "    print(\"\\tDo: Open door at left\")\n",
    "  elif option==4:\n",
    "    print(\"\\tDo: Close door\")\n",
    "print(\"\\nThanks.\")"
   ]
  },
  {
   "cell_type": "code",
   "execution_count": null,
   "id": "62f79f04",
   "metadata": {},
   "outputs": [],
   "source": []
  }
 ],
 "metadata": {
  "kernelspec": {
   "display_name": "Python 3 (ipykernel)",
   "language": "python",
   "name": "python3"
  },
  "language_info": {
   "codemirror_mode": {
    "name": "ipython",
    "version": 3
   },
   "file_extension": ".py",
   "mimetype": "text/x-python",
   "name": "python",
   "nbconvert_exporter": "python",
   "pygments_lexer": "ipython3",
   "version": "3.9.16"
  }
 },
 "nbformat": 4,
 "nbformat_minor": 5
}
