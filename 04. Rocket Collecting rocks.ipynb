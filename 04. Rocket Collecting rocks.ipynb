{
 "cells": [
  {
   "cell_type": "code",
   "execution_count": 1,
   "id": "0e25c9a0",
   "metadata": {},
   "outputs": [
    {
     "name": "stdout",
     "output_type": "stream",
     "text": [
      "Enter number of step: 5\n",
      "\n",
      "\n",
      "\t1. Specifiec rock\n",
      "\t2. Same rock\n",
      "Choose: 1\n",
      "Collect the rock\n",
      "\n",
      "\n",
      "\t1. Specifiec rock\n",
      "\t2. Same rock\n",
      "Choose: 2\n",
      "The rock is already collected\n",
      "\n",
      "\n",
      "\t1. Specifiec rock\n",
      "\t2. Same rock\n",
      "Choose: 1\n",
      "Collect the rock\n",
      "\n",
      "\n",
      "\t1. Specifiec rock\n",
      "\t2. Same rock\n",
      "Choose: 1\n",
      "Collect the rock\n",
      "\n",
      "\n",
      "\t1. Specifiec rock\n",
      "\t2. Same rock\n",
      "Choose: 2\n",
      "The rock is already collected\n"
     ]
    }
   ],
   "source": [
    "#problem 3->rocket collecting rocks\n",
    "x=int(input(\"Enter number of step: \"))\n",
    "for i in range(x):\n",
    "  print(\"\\n\")\n",
    "  print(\"\\t1. Specifiec rock\")\n",
    "  print(\"\\t2. Same rock\")\n",
    "  op=int(input(\"Choose: \"))\n",
    "  if op==1:\n",
    "    print(\"Collect the rock\")\n",
    "  elif op==2:\n",
    "    print(\"The rock is already collected\")"
   ]
  },
  {
   "cell_type": "code",
   "execution_count": null,
   "id": "6e497984",
   "metadata": {},
   "outputs": [],
   "source": []
  }
 ],
 "metadata": {
  "kernelspec": {
   "display_name": "Python 3 (ipykernel)",
   "language": "python",
   "name": "python3"
  },
  "language_info": {
   "codemirror_mode": {
    "name": "ipython",
    "version": 3
   },
   "file_extension": ".py",
   "mimetype": "text/x-python",
   "name": "python",
   "nbconvert_exporter": "python",
   "pygments_lexer": "ipython3",
   "version": "3.9.16"
  }
 },
 "nbformat": 4,
 "nbformat_minor": 5
}
