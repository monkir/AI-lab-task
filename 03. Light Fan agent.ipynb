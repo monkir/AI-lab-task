{
 "cells": [
  {
   "cell_type": "code",
   "execution_count": 1,
   "id": "8172dd9e",
   "metadata": {},
   "outputs": [
    {
     "name": "stdout",
     "output_type": "stream",
     "text": [
      "Enter number of step: 5\n",
      "\n",
      "\n",
      "\t1. No one in ther room\n",
      "\t2. Someone in the room\n",
      "Choose: 1\n",
      "\tTurn light and fan off.\n",
      "\n",
      "\n",
      "\t1. No one in ther room\n",
      "\t2. Someone in the room\n",
      "Choose: 2\n",
      "\tWeather is?\n",
      "\t\t1. Day\n",
      "\t\t2. Night\n",
      "Choose: 1\n",
      "\t\tTurn on fan only\n",
      "\n",
      "\n",
      "\t1. No one in ther room\n",
      "\t2. Someone in the room\n",
      "Choose: 2\n",
      "\tWeather is?\n",
      "\t\t1. Day\n",
      "\t\t2. Night\n",
      "Choose: 2\n",
      "\t\tTurn on fan and light\n",
      "\n",
      "\n",
      "\t1. No one in ther room\n",
      "\t2. Someone in the room\n",
      "Choose: 1\n",
      "\tTurn light and fan off.\n",
      "\n",
      "\n",
      "\t1. No one in ther room\n",
      "\t2. Someone in the room\n",
      "Choose: 1\n",
      "\tTurn light and fan off.\n",
      "\n",
      "Thanks.\n"
     ]
    }
   ],
   "source": [
    "#Problem 2->Light fan agent\n",
    "x=int(input(\"Enter number of step: \"))\n",
    "for i in range(x):\n",
    "  print(\"\\n\")\n",
    "  print(\"\\t1. No one in ther room\")\n",
    "  print(\"\\t2. Someone in the room\")\n",
    "  op=int(input(\"Choose: \"))\n",
    "  if op==1:\n",
    "    print(\"\\tTurn light and fan off.\")\n",
    "  elif op==2:\n",
    "    print(\"\\tWeather is?\")\n",
    "    print(\"\\t\\t1. Day\")\n",
    "    print(\"\\t\\t2. Night\")\n",
    "    op2=int(input(\"Choose: \"))\n",
    "    if op2==1:\n",
    "      print(\"\\t\\tTurn on fan only\")\n",
    "    elif op2==2:\n",
    "      print(\"\\t\\tTurn on fan and light\")\n",
    "\n",
    "print(\"\\nThanks.\")"
   ]
  },
  {
   "cell_type": "code",
   "execution_count": null,
   "id": "26aa5b7f",
   "metadata": {},
   "outputs": [],
   "source": []
  }
 ],
 "metadata": {
  "kernelspec": {
   "display_name": "Python 3 (ipykernel)",
   "language": "python",
   "name": "python3"
  },
  "language_info": {
   "codemirror_mode": {
    "name": "ipython",
    "version": 3
   },
   "file_extension": ".py",
   "mimetype": "text/x-python",
   "name": "python",
   "nbconvert_exporter": "python",
   "pygments_lexer": "ipython3",
   "version": "3.9.16"
  }
 },
 "nbformat": 4,
 "nbformat_minor": 5
}
