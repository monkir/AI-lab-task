{
 "cells": [
  {
   "cell_type": "code",
   "execution_count": 1,
   "id": "720d9930",
   "metadata": {},
   "outputs": [
    {
     "name": "stdout",
     "output_type": "stream",
     "text": [
      "Enter number of step: 5\n",
      "\n",
      "\n",
      "1. [A, Clean]\n",
      "2. [A, Dirty]\n",
      "3. [B, Clean]\n",
      "4. [B, Dirty]\n",
      "Choose an option: 2\n",
      "\tDo: Suck\n",
      "\n",
      "\n",
      "1. [A, Clean]\n",
      "2. [A, Dirty]\n",
      "3. [B, Clean]\n",
      "4. [B, Dirty]\n",
      "Choose an option: 3\n",
      "\tDo: Left\n",
      "\n",
      "\n",
      "1. [A, Clean]\n",
      "2. [A, Dirty]\n",
      "3. [B, Clean]\n",
      "4. [B, Dirty]\n",
      "Choose an option: 1\n",
      "\tDo: Right\n",
      "\n",
      "\n",
      "1. [A, Clean]\n",
      "2. [A, Dirty]\n",
      "3. [B, Clean]\n",
      "4. [B, Dirty]\n",
      "Choose an option: 2\n",
      "\tDo: Suck\n",
      "\n",
      "\n",
      "1. [A, Clean]\n",
      "2. [A, Dirty]\n",
      "3. [B, Clean]\n",
      "4. [B, Dirty]\n",
      "Choose an option: 4\n",
      "\tDo: Suck\n",
      "\n",
      "Thanks.\n"
     ]
    }
   ],
   "source": [
    "x=int(input(\"Enter number of step: \"))\n",
    "for i in range(x):\n",
    "  print(\"\\n\")\n",
    "  print(\"1. [A, Clean]\")\n",
    "  print(\"2. [A, Dirty]\")\n",
    "  print(\"3. [B, Clean]\")\n",
    "  print(\"4. [B, Dirty]\")\n",
    "  option=int(input(\"Choose an option: \"))\n",
    "  if option==1:\n",
    "    print(\"\\tDo: Right\")\n",
    "  elif option==2:\n",
    "    print(\"\\tDo: Suck\")\n",
    "  elif option==3:\n",
    "    print(\"\\tDo: Left\")\n",
    "  elif option==4:\n",
    "    print(\"\\tDo: Suck\")\n",
    "print(\"\\nThanks.\")"
   ]
  },
  {
   "cell_type": "code",
   "execution_count": null,
   "id": "aa29ff64",
   "metadata": {},
   "outputs": [],
   "source": []
  }
 ],
 "metadata": {
  "kernelspec": {
   "display_name": "Python 3 (ipykernel)",
   "language": "python",
   "name": "python3"
  },
  "language_info": {
   "codemirror_mode": {
    "name": "ipython",
    "version": 3
   },
   "file_extension": ".py",
   "mimetype": "text/x-python",
   "name": "python",
   "nbconvert_exporter": "python",
   "pygments_lexer": "ipython3",
   "version": "3.9.16"
  }
 },
 "nbformat": 4,
 "nbformat_minor": 5
}
