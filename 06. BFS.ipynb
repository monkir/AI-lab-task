{
 "cells": [
  {
   "cell_type": "code",
   "execution_count": 1,
   "id": "499c53af",
   "metadata": {},
   "outputs": [
    {
     "name": "stdout",
     "output_type": "stream",
     "text": [
      "Following is Breadth-First Search: \n",
      "5 3 7 2 4 8 "
     ]
    }
   ],
   "source": [
    "graph={\n",
    "    '5':['3','7'],\n",
    "    '3':['2','4'],\n",
    "    '7':['8'],\n",
    "    '2':[],\n",
    "    '4':['8'],\n",
    "    '8':[]\n",
    "}\n",
    "visited=[]    #list for visited nodes\n",
    "queue=[]      #initalize a queue\n",
    "\n",
    "def bfs(visited, graph,node): #function for BFS\n",
    "  visited.append(node)\n",
    "  queue.append(node)\n",
    "  while queue:\n",
    "    m=queue.pop(0)\n",
    "    print(m,end=\" \")\n",
    "\n",
    "    for neighbour in graph[m]:\n",
    "      if neighbour not in visited:\n",
    "        visited.append(neighbour)\n",
    "        queue.append(neighbour)\n",
    "\n",
    "# Driver code\n",
    "print(\"Following is Breadth-First Search: \")\n",
    "bfs(visited,graph, '5')   #function calling"
   ]
  },
  {
   "cell_type": "code",
   "execution_count": 2,
   "id": "27a0c797",
   "metadata": {},
   "outputs": [
    {
     "name": "stdout",
     "output_type": "stream",
     "text": [
      "Following is Breadth-First Search: \n",
      "Arad Zerind Sibiu Timisoara Oradea Fagaras Lugoj Bucharest "
     ]
    }
   ],
   "source": [
    "graph={\n",
    "    \"Arad\":[\"Zerind\",\"Sibiu\",\"Timisoara\"],\n",
    "    \"Zerind\":[\"Arad\",\"Oradea\"],\n",
    "    \"Oradea\":[\"Zerind\",\"Sibiu\"],\n",
    "    \"Sibiu\":[\"Arad\",\"Oradea\",\"Fagaras\"],\n",
    "    \"Timisoara\":[\"Arad\",\"Lugoj\"],\n",
    "    \"Lugoj\":[\"Timisoara\",\"Mehadia\"],\n",
    "    \"Mehadia\":[\"Lugoj\",\"Drobeta\"],\n",
    "    \"Drobeta\":[\"Craiova\",\"Mehadia\"],\n",
    "    \"Craiova\":[\"Drobeta\",\"Rimnicu Vilcea\",\"Pitesti\"],\n",
    "    \"Rimnicu Vilcea\":[\"Sibiu\",\"Craiova\",\"Pitesti\"],\n",
    "    \"Pitesti\":[\"Bucharest\",\"Craiova\",\"Rimnicu Vilcea\"],\n",
    "    \"Fagaras\":[\"Sibiu\",\"Bucharest\"],\n",
    "    \"Bucharest\":[\"Giurgiu\",\"Urziceni\"],\n",
    "    \"Giurgiu\":[\"Bucharest\"],\n",
    "    \"Urziceni\":[\"Bucharest\",\"Vaslui\",\"Hirsova\"],\n",
    "    \"Hirsova\":[\"Eforic\",\"Urziceni\"],\n",
    "    \"Eforic\":[\"Hirsova\"],\n",
    "    \"Vaslui\":[\"Urziceni\",\"Iasi\"],\n",
    "    \"Iasi\":[\"Vaslui\",\"Neamt\"],\n",
    "    \"Neamt\":[\"Iasi\"]\n",
    "\n",
    "}\n",
    "visited=[]    #list for visited nodes\n",
    "queue=[]      #initalize a queue\n",
    "\n",
    "def bfs(visited, graph,node,destination): #function for BFS\n",
    "  visited.append(node)\n",
    "  queue.append(node)\n",
    "  while queue:\n",
    "    m=queue.pop(0)\n",
    "    print(m,end=\" \")\n",
    "    if m==destination:\n",
    "      return\n",
    "\n",
    "    for neighbour in graph[m]:\n",
    "      if neighbour not in visited:\n",
    "        visited.append(neighbour)\n",
    "        queue.append(neighbour)\n",
    "\n",
    "# Driver code\n",
    "print(\"Following is Breadth-First Search: \")\n",
    "bfs(visited,graph, \"Arad\",\"Bucharest\")   #function calling"
   ]
  },
  {
   "cell_type": "code",
   "execution_count": null,
   "id": "e0f78f0e",
   "metadata": {},
   "outputs": [],
   "source": []
  }
 ],
 "metadata": {
  "kernelspec": {
   "display_name": "Python 3 (ipykernel)",
   "language": "python",
   "name": "python3"
  },
  "language_info": {
   "codemirror_mode": {
    "name": "ipython",
    "version": 3
   },
   "file_extension": ".py",
   "mimetype": "text/x-python",
   "name": "python",
   "nbconvert_exporter": "python",
   "pygments_lexer": "ipython3",
   "version": "3.9.16"
  }
 },
 "nbformat": 4,
 "nbformat_minor": 5
}
