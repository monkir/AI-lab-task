{
 "cells": [
  {
   "cell_type": "code",
   "execution_count": 1,
   "id": "ba58f162",
   "metadata": {},
   "outputs": [
    {
     "name": "stdout",
     "output_type": "stream",
     "text": [
      "Following is gready best first Search: \n",
      "S-> B-> F-> G\n"
     ]
    }
   ],
   "source": [
    "#GBFS algorithm\n",
    "\n",
    "graph={\n",
    "    \"S\":{\"A\":3,\"B\":2},\n",
    "    \"A\":{\"C\":4,\"D\":1},\n",
    "    \"B\":{\"E\":3,\"F\":1},\n",
    "    \"E\":{\"H\":5},\n",
    "    \"F\":{\"I\":2,\"G\":3}\n",
    "}\n",
    "hb={\n",
    "    \"A\":12,\n",
    "    \"B\":4,\n",
    "    \"C\":7,\n",
    "    \"D\":3,\n",
    "    \"E\":8,\n",
    "    \"F\":3,\n",
    "    \"G\":8,\n",
    "    \"H\":3,\n",
    "    \"I\":8,\n",
    "    \"S\":3,\n",
    "    \"G\":8\n",
    "}\n",
    "\n",
    "visited=[]    #list for visited nodes\n",
    "queue=[]      #initalize a queue\n",
    "\n",
    "path=\"\"\n",
    "\n",
    "def BestFS(graph,node,destination): #function for BFS\n",
    "  hmin=10000;\n",
    "  next=\"\"\n",
    "  print(node,end=\"-> \")\n",
    "  for neighbour in graph[node]:\n",
    "    s1=str(node)\n",
    "    s2=str(neighbour)\n",
    "    n=graph[node]\n",
    "    h=hb[s2]    #+n[s2]\n",
    "    #print(s2,\": \",h,end=\", \")\n",
    "    if s2==destination:\n",
    "      print(s2)\n",
    "      return\n",
    "    if h<hmin:\n",
    "      hmin=h\n",
    "      next=s2\n",
    "  #print(next,end=\"-> \")\n",
    "  BestFS(graph, next, destination)\n",
    "# Driver code\n",
    "print(\"Following is gready best first Search: \")\n",
    "BestFS(graph, \"S\",\"G\")   #function calling"
   ]
  },
  {
   "cell_type": "code",
   "execution_count": null,
   "id": "43f7e68f",
   "metadata": {},
   "outputs": [],
   "source": []
  }
 ],
 "metadata": {
  "kernelspec": {
   "display_name": "Python 3 (ipykernel)",
   "language": "python",
   "name": "python3"
  },
  "language_info": {
   "codemirror_mode": {
    "name": "ipython",
    "version": 3
   },
   "file_extension": ".py",
   "mimetype": "text/x-python",
   "name": "python",
   "nbconvert_exporter": "python",
   "pygments_lexer": "ipython3",
   "version": "3.9.16"
  }
 },
 "nbformat": 4,
 "nbformat_minor": 5
}
