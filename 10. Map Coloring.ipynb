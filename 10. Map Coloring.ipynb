{
 "cells": [
  {
   "cell_type": "code",
   "execution_count": 1,
   "id": "660fbf39",
   "metadata": {},
   "outputs": [
    {
     "name": "stdout",
     "output_type": "stream",
     "text": [
      "WA [ Red]\t: NT [ Blue], SA [ Green], \n",
      "NT [ Blue]\t: WA [ Red], SA [ Green], Q [ Red], \n",
      "SA [ Green]\t: WA [ Red], NT [ Blue], Q [ Red], NSW [ Blue], V [ Red], \n",
      "Q [ Red]\t: NT [ Blue], SA [ Green], NSW [ Blue], \n",
      "NSW [ Blue]\t: Q [ Red], SA [ Green], V [ Red], \n",
      "V [ Red]\t: SA [ Green], NSW [ Blue], \n"
     ]
    }
   ],
   "source": [
    "#map coloring\n",
    "colors = ['Red', 'Blue', 'Green']\n",
    "\n",
    "states = ['WA', 'NT', 'SA', 'Q', 'NSW', 'V']\n",
    "\n",
    "map = {\n",
    "    'WA': ['NT', 'SA'],\n",
    "    'NT': ['WA', 'SA', 'Q'],\n",
    "    'SA': ['WA', 'NT', 'Q', 'NSW', 'V'],\n",
    "    'Q': ['NT', 'SA', 'NSW'],\n",
    "    'NSW': ['Q', 'SA', 'V'],\n",
    "    'V': ['SA', 'NSW']\n",
    "}\n",
    "\n",
    "\n",
    "\n",
    "colors_of_states = {}\n",
    "\n",
    "def is_differnet_color(state, color):\n",
    "    for neighbor in map[state]: \n",
    "        color_of_neighbor = colors_of_states.get(neighbor)\n",
    "        if color_of_neighbor == color:\n",
    "            return False\n",
    "\n",
    "    return True\n",
    "\n",
    "def get_color_for_state(state):\n",
    "    for color in colors:\n",
    "        if is_differnet_color(state, color):\n",
    "            return color\n",
    "\n",
    "# Main code From here\n",
    "for state in states:\n",
    "    colors_of_states[state] = get_color_for_state(state)\n",
    "\n",
    "#print(colors_of_states)\n",
    "for state in colors_of_states:\n",
    "  print(state,\"[\",colors_of_states[state],end=\"]\\t: \")\n",
    "  for neighbor_state in map[state]:\n",
    "    print(neighbor_state,\"[\",colors_of_states[neighbor_state],end=\"], \")\n",
    "  print()\n"
   ]
  },
  {
   "cell_type": "code",
   "execution_count": null,
   "id": "1ec37998",
   "metadata": {},
   "outputs": [],
   "source": []
  }
 ],
 "metadata": {
  "kernelspec": {
   "display_name": "Python 3 (ipykernel)",
   "language": "python",
   "name": "python3"
  },
  "language_info": {
   "codemirror_mode": {
    "name": "ipython",
    "version": 3
   },
   "file_extension": ".py",
   "mimetype": "text/x-python",
   "name": "python",
   "nbconvert_exporter": "python",
   "pygments_lexer": "ipython3",
   "version": "3.9.16"
  }
 },
 "nbformat": 4,
 "nbformat_minor": 5
}
